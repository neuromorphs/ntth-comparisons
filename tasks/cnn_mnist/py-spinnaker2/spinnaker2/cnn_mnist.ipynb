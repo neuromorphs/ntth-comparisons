{
 "cells": [
  {
   "cell_type": "code",
   "execution_count": 1,
   "id": "94113a4f",
   "metadata": {},
   "outputs": [
    {
     "name": "stderr",
     "output_type": "stream",
     "text": [
      "2022-07-05 14:14:31.002079: W tensorflow/stream_executor/platform/default/dso_loader.cc:64] Could not load dynamic library 'libcudart.so.11.0'; dlerror: libcudart.so.11.0: cannot open shared object file: No such file or directory\n",
      "2022-07-05 14:14:31.002110: I tensorflow/stream_executor/cuda/cudart_stub.cc:29] Ignore above cudart dlerror if you do not have a GPU set up on your machine.\n"
     ]
    }
   ],
   "source": [
    "import os\n",
    "\n",
    "os.environ[\"CUDA_VISIBLE_DEVICES\"] = \"-1\"  # use CPU for TF\n",
    "import numpy as np\n",
    "from spinnaker2 import snn, hardware\n",
    "import tensorflow as tf\n",
    "import tensorflow_datasets as tfds\n",
    "import itertools\n",
    "import helpers\n",
    "import matplotlib.pyplot as plt"
   ]
  },
  {
   "cell_type": "code",
   "execution_count": 2,
   "id": "8c14bb53",
   "metadata": {},
   "outputs": [],
   "source": [
    "# Network definitions\n",
    "conv2d_out_shape = (4, 12, 12)\n",
    "conv2d_size = np.prod(conv2d_out_shape)  # 576\n",
    "dense1_size = 16\n",
    "dense2_size = 10\n",
    "delay = 0\n",
    "timesteps = 50"
   ]
  },
  {
   "cell_type": "code",
   "execution_count": 3,
   "id": "6e0733f1",
   "metadata": {},
   "outputs": [
    {
     "name": "stderr",
     "output_type": "stream",
     "text": [
      "2022-07-05 14:14:51.280856: W tensorflow/core/platform/cloud/google_auth_provider.cc:184] All attempts to get a Google authentication bearer token failed, returning an empty token. Retrieving token from files failed with \"NOT_FOUND: Could not locate the credentials file.\". Retrieving token from GCE failed with \"FAILED_PRECONDITION: Error executing an HTTP request: libcurl code 6 meaning 'Couldn't resolve host name', error details: Could not resolve host: metadata\".\n"
     ]
    },
    {
     "name": "stdout",
     "output_type": "stream",
     "text": [
      "\u001b[1mDownloading and preparing dataset 11.06 MiB (download: 11.06 MiB, generated: 21.00 MiB, total: 32.06 MiB) to ~/tensorflow_datasets/mnist/3.0.1...\u001b[0m\n"
     ]
    },
    {
     "data": {
      "application/vnd.jupyter.widget-view+json": {
       "model_id": "46edcb28c3d74f20bc6c80177190b2cf",
       "version_major": 2,
       "version_minor": 0
      },
      "text/plain": [
       "Dl Completed...:   0%|          | 0/4 [00:00<?, ? file/s]"
      ]
     },
     "metadata": {},
     "output_type": "display_data"
    },
    {
     "name": "stdout",
     "output_type": "stream",
     "text": [
      "\u001b[1mDataset mnist downloaded and prepared to ~/tensorflow_datasets/mnist/3.0.1. Subsequent calls will reuse this data.\u001b[0m\n"
     ]
    },
    {
     "name": "stderr",
     "output_type": "stream",
     "text": [
      "2022-07-05 14:14:56.214591: W tensorflow/stream_executor/platform/default/dso_loader.cc:64] Could not load dynamic library 'libcuda.so.1'; dlerror: libcuda.so.1: cannot open shared object file: No such file or directory\n",
      "2022-07-05 14:14:56.214652: W tensorflow/stream_executor/cuda/cuda_driver.cc:269] failed call to cuInit: UNKNOWN ERROR (303)\n",
      "2022-07-05 14:14:56.214687: I tensorflow/stream_executor/cuda/cuda_diagnostics.cc:156] kernel driver does not appear to be running on this host (pop-os): /proc/driver/nvidia/version does not exist\n",
      "2022-07-05 14:14:56.215120: I tensorflow/core/platform/cpu_feature_guard.cc:193] This TensorFlow binary is optimized with oneAPI Deep Neural Network Library (oneDNN) to use the following CPU instructions in performance-critical operations:  AVX2 FMA\n",
      "To enable them in other operations, rebuild TensorFlow with the appropriate compiler flags.\n"
     ]
    },
    {
     "name": "stdout",
     "output_type": "stream",
     "text": [
      "tfds.core.DatasetInfo(\n",
      "    name='mnist',\n",
      "    full_name='mnist/3.0.1',\n",
      "    description=\"\"\"\n",
      "    The MNIST database of handwritten digits.\n",
      "    \"\"\",\n",
      "    homepage='http://yann.lecun.com/exdb/mnist/',\n",
      "    data_path='~/tensorflow_datasets/mnist/3.0.1',\n",
      "    file_format=tfrecord,\n",
      "    download_size=11.06 MiB,\n",
      "    dataset_size=21.00 MiB,\n",
      "    features=FeaturesDict({\n",
      "        'image': Image(shape=(28, 28, 1), dtype=tf.uint8),\n",
      "        'label': ClassLabel(shape=(), dtype=tf.int64, num_classes=10),\n",
      "    }),\n",
      "    supervised_keys=('image', 'label'),\n",
      "    disable_shuffling=False,\n",
      "    splits={\n",
      "        'test': <SplitInfo num_examples=10000, num_shards=1>,\n",
      "        'train': <SplitInfo num_examples=60000, num_shards=1>,\n",
      "    },\n",
      "    citation=\"\"\"@article{lecun2010mnist,\n",
      "      title={MNIST handwritten digit database},\n",
      "      author={LeCun, Yann and Cortes, Corinna and Burges, CJ},\n",
      "      journal={ATT Labs [Online]. Available: http://yann.lecun.com/exdb/mnist},\n",
      "      volume={2},\n",
      "      year={2010}\n",
      "    }\"\"\",\n",
      ")\n",
      "Actual label: 3\n"
     ]
    },
    {
     "name": "stderr",
     "output_type": "stream",
     "text": [
      "2022-07-05 14:14:56.638497: W tensorflow/core/kernels/data/cache_dataset_ops.cc:856] The calling iterator did not fully read the dataset being cached. In order to avoid unexpected truncation of the dataset, the partially cached contents of the dataset  will be discarded. This can happen if you have an input pipeline similar to `dataset.cache().take(k).repeat()`. You should use `dataset.take(k).cache().repeat()` instead.\n"
     ]
    }
   ],
   "source": [
    "# Load dataset\n",
    "(ds_train, ds_test), ds_info = tfds.load(\n",
    "    \"mnist\",\n",
    "    split=[\"train\", \"test\"],\n",
    "    as_supervised=True,\n",
    "    with_info=True,\n",
    ")\n",
    "print(ds_info)\n",
    "ds = ds_test.take(10)\n",
    "index = 8\n",
    "input_image, label = next(itertools.islice(iter(tfds.as_numpy(ds)), index, None))\n",
    "print(\"Actual label:\", label)"
   ]
  },
  {
   "cell_type": "code",
   "execution_count": 4,
   "id": "ec73d616",
   "metadata": {},
   "outputs": [],
   "source": [
    "# re-format input image\n",
    "input_image_uint8 = input_image.astype(np.uint8)\n",
    "input_image_uint8 = np.moveaxis(input_image_uint8, -1, 0)\n",
    "assert input_image_uint8.shape == (1, 28, 28)  # HWC"
   ]
  },
  {
   "cell_type": "code",
   "execution_count": 5,
   "id": "b4536cff",
   "metadata": {},
   "outputs": [],
   "source": [
    "####################################\n",
    "# Load weights and convert to int8 #\n",
    "####################################\n",
    "tf_model = tf.keras.models.load_model(\"data/tf_model_v2.h5\")"
   ]
  },
  {
   "cell_type": "code",
   "execution_count": 6,
   "id": "c359f52f",
   "metadata": {},
   "outputs": [],
   "source": [
    "# conv2d\n",
    "conv2d_weights = np.array(tf_model.weights[0])\n",
    "conv2d_weights_scaled_int8 = helpers.scale_and_convert_weights_to_int8(conv2d_weights)"
   ]
  },
  {
   "cell_type": "code",
   "execution_count": 7,
   "id": "a72d39e8",
   "metadata": {},
   "outputs": [],
   "source": [
    "# dense\n",
    "dense_weights = np.array(tf_model.weights[1])\n",
    "dense_weights_scaled_int8 = helpers.scale_and_convert_weights_to_int8(dense_weights)\n",
    "# reshape dense weights\n",
    "dense_weights_scaled_int8 = helpers.reorder_dense_weights_after_conv2d(\n",
    "    dense_weights_scaled_int8,\n",
    "    channels=conv2d_out_shape[0],\n",
    "    height=conv2d_out_shape[1],\n",
    "    width=conv2d_out_shape[2],\n",
    ")"
   ]
  },
  {
   "cell_type": "code",
   "execution_count": 8,
   "id": "9afe4aa0",
   "metadata": {},
   "outputs": [],
   "source": [
    "# dense2\n",
    "dense2_weights = np.array(tf_model.weights[2])\n",
    "dense2_weights_scaled_int8 = helpers.scale_and_convert_weights_to_int8(dense2_weights)"
   ]
  },
  {
   "cell_type": "code",
   "execution_count": 9,
   "id": "6dc7d295",
   "metadata": {},
   "outputs": [],
   "source": [
    "######################\n",
    "# Network Definition #\n",
    "######################\n",
    "\n",
    "##########\n",
    "# Conv2D #\n",
    "##########\n",
    "max_theo_output_value = helpers.mla_conv2d_max_output_value(5, 5, 1, np.int8, np.uint8)\n",
    "threshold = 100.0\n",
    "scale = threshold / max_theo_output_value\n",
    "\n",
    "params = {\n",
    "    \"image\": input_image_uint8,  # CHW\n",
    "    \"weights\": conv2d_weights_scaled_int8,  # (H,W,CI,CO) format\n",
    "    \"scale\": scale * 5,  # multiplier of weighted sum to I_offset\n",
    "    \"threshold\": threshold,  # spike threshold\n",
    "    \"stride_x\": 2,\n",
    "    \"stride_y\": 2,\n",
    "}\n",
    "\n",
    "input_pop = snn.Population(\n",
    "    size=conv2d_size,\n",
    "    neuron_model=\"conv2d_if_neuron_rate_code\",\n",
    "    params=params,\n",
    "    name=\"input_pop\",\n",
    ")"
   ]
  },
  {
   "cell_type": "code",
   "execution_count": null,
   "id": "76ac2779",
   "metadata": {},
   "outputs": [],
   "source": [
    "######################\n",
    "# Dense Hidden Layer #\n",
    "######################\n",
    "\n",
    "max_theo_output_value = dense_weights_scaled_int8.shape[0] * np.iinfo(np.int8).max\n",
    "neuron_params = {\n",
    "    \"threshold\": max_theo_output_value / 50,\n",
    "    \"alpha_decay\": 1.0,\n",
    "}\n",
    "\n",
    "pop1 = snn.Population(\n",
    "    size=dense1_size, neuron_model=\"lif_no_delay\", params=neuron_params, name=\"pop1\"\n",
    ")\n",
    "\n",
    "conns = helpers.connection_list_from_dense_weights(dense_weights_scaled_int8, delay)\n",
    "\n",
    "proj1 = snn.Projection(pre=input_pop, post=pop1, connections=conns)"
   ]
  },
  {
   "cell_type": "code",
   "execution_count": null,
   "id": "8e597d2e",
   "metadata": {},
   "outputs": [],
   "source": [
    "######################\n",
    "# Dense Output Layer #\n",
    "######################\n",
    "\n",
    "neuron_params_out = {\n",
    "    \"threshold\": 1.0e9,  # very high threshold so that it is never reached\n",
    "    \"alpha_decay\": 1.0,  # no leakage\n",
    "}\n",
    "\n",
    "pop2 = snn.Population(\n",
    "    size=dense2_size,\n",
    "    neuron_model=\"lif_no_delay\",\n",
    "    params=neuron_params_out,\n",
    "    name=\"pop2\",\n",
    "    record=[\"spikes\", \"v\"],\n",
    ")\n",
    "\n",
    "conns2 = helpers.connection_list_from_dense_weights(dense2_weights_scaled_int8, delay)\n",
    "\n",
    "proj2 = snn.Projection(pre=pop1, post=pop2, connections=conns2)\n",
    "\n",
    "net = snn.Network(\"my network\")\n",
    "net.add(input_pop, pop1, pop2, proj1, proj2)"
   ]
  },
  {
   "cell_type": "code",
   "execution_count": null,
   "id": "c4480665",
   "metadata": {},
   "outputs": [],
   "source": [
    "#####################\n",
    "# Run on SpiNNaker2 #\n",
    "#####################\n",
    "\n",
    "hw = hardware.SpiNNaker2Chip()\n",
    "hw.run(net, timesteps)\n",
    "\n",
    "\n",
    "# get voltage of last timestep of output neurons to find winner\n",
    "voltages = pop2.get_voltages()\n",
    "v_last_timestep = [vs[-1] for vs in voltages.values()]\n",
    "index_max_value = np.argmax(v_last_timestep)\n",
    "print(\"Predicted label:\", index_max_value)\n",
    "print(\"Actual label:\", label)\n",
    "if label == index_max_value:\n",
    "    print(\"CORRECT PREDICTION\")\n",
    "\n",
    "\n",
    "# compare output of each layer to DNN\n",
    "compare_layer_output = False\n",
    "if compare_layer_output:\n",
    "    # reference DNN in TF/numpy\n",
    "    input_image_float = input_image.astype(float) / 255.0\n",
    "    input_image_float = np.expand_dims(input_image_float, 0)\n",
    "    conv2d_out = tf.nn.conv2d(\n",
    "        input_image_float, conv2d_weights, strides=[1, 2, 2, 1], padding=\"VALID\"\n",
    "    )\n",
    "    conv2d_out = np.array(conv2d_out)\n",
    "    conv2d_out = conv2d_out.clip(min=0)  # ReLU\n",
    "\n",
    "    dense_out = np.matmul(conv2d_out.flatten(), dense_weights)\n",
    "    dense_out = dense_out.clip(min=0)  # ReLU\n",
    "\n",
    "    dense2_out = np.matmul(dense_out, dense2_weights)\n",
    "\n",
    "    # compare to SpiNNaker2\n",
    "    # Conv2D\n",
    "    spike_times = (\n",
    "        input_pop.get_spikes()\n",
    "    )  # dict with neuron_ids as keys and list of spike times as value\n",
    "    spike_counts = np.zeros(input_pop.size, dtype=np.int32)\n",
    "    for neuron_id, spikes in spike_times.items():\n",
    "        spike_counts[neuron_id] = len(spikes)\n",
    "    print(\"Conv2D max spikes:\", spike_counts.max())\n",
    "\n",
    "    conv2d_out = np.moveaxis(conv2d_out, -1, 1)  # change from NHWC to NCHW\n",
    "    out_flat = conv2d_out.flatten()\n",
    "\n",
    "    plt.figure()\n",
    "    plt.plot(out_flat, spike_counts, \".\")\n",
    "    plt.xlabel(\"TensorFlow activation\")\n",
    "    plt.ylabel(\"SpiNNaker2 spike count\")\n",
    "    plt.title(\"Conv2D\")\n",
    "\n",
    "    # Dense\n",
    "    spike_times_dense = (\n",
    "        pop1.get_spikes()\n",
    "    )  # dict with neuron_ids as keys and list of spike times as value\n",
    "    spike_counts_dense = np.zeros(pop1.size, dtype=np.int32)\n",
    "    for neuron_id, spikes in spike_times_dense.items():\n",
    "        spike_counts_dense[neuron_id] = len(spikes)\n",
    "    print(\"Dense max spikes:\", spike_counts_dense.max())\n",
    "\n",
    "    plt.figure()\n",
    "    plt.plot(dense_out, spike_counts_dense, \".\")\n",
    "    plt.xlabel(\"TensorFlow activation\")\n",
    "    plt.ylabel(\"SpiNNaker2 spike count\")\n",
    "    plt.title(\"Dense (hidden layer)\")\n",
    "\n",
    "    # output layer\n",
    "    plt.figure()\n",
    "    times = np.arange(timesteps)\n",
    "    for i, vs in voltages.items():\n",
    "        plt.plot(times, vs, label=str(i))\n",
    "    plt.xlim(0, timesteps)\n",
    "    plt.xlabel(\"time step\")\n",
    "    plt.ylabel(\"voltage\")\n",
    "    plt.legend(title=\"Neuron\")\n",
    "    plt.title(f\"SpiNNaker output (True label={label})\")\n",
    "\n",
    "    plt.figure()\n",
    "    plt.plot(dense2_out, v_last_timestep, \".\")\n",
    "    plt.xlabel(\"TensorFlow: activation of output layer\")\n",
    "    plt.ylabel(\"SpiNNaker2: voltage at last timestep\")\n",
    "    plt.title(\"Output layer\")\n",
    "    plt.show()"
   ]
  }
 ],
 "metadata": {
  "kernelspec": {
   "display_name": "Python 3 (ipykernel)",
   "language": "python",
   "name": "python3"
  },
  "language_info": {
   "codemirror_mode": {
    "name": "ipython",
    "version": 3
   },
   "file_extension": ".py",
   "mimetype": "text/x-python",
   "name": "python",
   "nbconvert_exporter": "python",
   "pygments_lexer": "ipython3",
   "version": "3.10.4"
  }
 },
 "nbformat": 4,
 "nbformat_minor": 5
}
