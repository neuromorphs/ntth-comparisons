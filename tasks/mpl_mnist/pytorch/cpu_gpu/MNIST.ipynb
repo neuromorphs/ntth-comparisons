{
 "cells": [
  {
   "cell_type": "code",
   "execution_count": 1,
   "id": "62cd6b76",
   "metadata": {},
   "outputs": [],
   "source": [
    "# Import Libraries \n",
    "\n",
    "import torch\n",
    "import numpy as np\n",
    "import torch.nn as nn\n",
    "import torch.nn.functional as F\n",
    "import torch.optim as optim\n",
    "from torch.utils.data import DataLoader\n",
    "from torchvision import datasets, transforms\n",
    "from torch.autograd import Variable\n",
    "import matplotlib.pyplot as plt"
   ]
  },
  {
   "cell_type": "code",
   "execution_count": 2,
   "id": "1c44f427",
   "metadata": {},
   "outputs": [],
   "source": [
    "# parameters \n",
    "\n",
    "batch_size = 64\n",
    "in_features, hid_features, out_features = 784, 30, 10\n",
    "learning_rate = 1e-3\n",
    "epochs = 10"
   ]
  },
  {
   "cell_type": "code",
   "execution_count": 3,
   "id": "dda97647",
   "metadata": {},
   "outputs": [],
   "source": [
    "transform = transforms.Compose([transforms.ToTensor()])\n",
    "\n",
    "train_data = datasets.MNIST('../data', train=True, download=True, transform=transform)\n",
    "test_data = datasets.MNIST('../data', train=False, download=True, transform=transform)\n",
    "train_loader = DataLoader(train_data, batch_size=batch_size, shuffle=True)\n",
    "test_loader = DataLoader(test_data)"
   ]
  },
  {
   "cell_type": "code",
   "execution_count": 4,
   "id": "b29e4eb8",
   "metadata": {},
   "outputs": [],
   "source": [
    "class Net(nn.Module):\n",
    "    \n",
    "    def __init__(self, in_features, hidden_dim, out_features):\n",
    "        super(Net, self).__init__()\n",
    "        self.layer1 = nn.Linear(in_features, hidden_dim)\n",
    "        self.sigmoid = nn.Sigmoid()\n",
    "        self.layer2 = nn.Linear(hidden_dim, out_features)\n",
    "       \n",
    "        \n",
    "    def forward(self, x):     \n",
    "        x = self.layer1(x)\n",
    "        x = self.sigmoid(x)\n",
    "        x = self.layer2(x)\n",
    "        return x\n",
    "    \n",
    "model = Net(in_features,hid_features,out_features)\n",
    "criterion = nn.CrossEntropyLoss()\n",
    "optimizer = torch.optim.Adam(model.parameters(), learning_rate) "
   ]
  },
  {
   "cell_type": "code",
   "execution_count": 5,
   "id": "9414242b",
   "metadata": {},
   "outputs": [
    {
     "name": "stdout",
     "output_type": "stream",
     "text": [
      "Train Epoch: 1 [0/60000 (0%)]\tLoss: 2.325868\n",
      "Train Epoch: 1 [12800/60000 (21%)]\tLoss: 1.135644\n",
      "Train Epoch: 1 [25600/60000 (43%)]\tLoss: 0.676561\n",
      "Train Epoch: 1 [38400/60000 (64%)]\tLoss: 0.640033\n",
      "Train Epoch: 1 [51200/60000 (85%)]\tLoss: 0.433734\n",
      "\n",
      "Test set: Average loss: 0.3811, Accuracy: 9088/10000 (91%)\n",
      "\n",
      "Train Epoch: 2 [0/60000 (0%)]\tLoss: 0.361147\n",
      "Train Epoch: 2 [12800/60000 (21%)]\tLoss: 0.447270\n",
      "Train Epoch: 2 [25600/60000 (43%)]\tLoss: 0.432586\n",
      "Train Epoch: 2 [38400/60000 (64%)]\tLoss: 0.217821\n",
      "Train Epoch: 2 [51200/60000 (85%)]\tLoss: 0.245744\n",
      "\n",
      "Test set: Average loss: 0.2724, Accuracy: 9268/10000 (93%)\n",
      "\n",
      "Train Epoch: 3 [0/60000 (0%)]\tLoss: 0.345737\n",
      "Train Epoch: 3 [12800/60000 (21%)]\tLoss: 0.323133\n",
      "Train Epoch: 3 [25600/60000 (43%)]\tLoss: 0.165581\n",
      "Train Epoch: 3 [38400/60000 (64%)]\tLoss: 0.193577\n",
      "Train Epoch: 3 [51200/60000 (85%)]\tLoss: 0.207602\n",
      "\n",
      "Test set: Average loss: 0.2347, Accuracy: 9337/10000 (93%)\n",
      "\n",
      "Train Epoch: 4 [0/60000 (0%)]\tLoss: 0.235163\n",
      "Train Epoch: 4 [12800/60000 (21%)]\tLoss: 0.226358\n",
      "Train Epoch: 4 [25600/60000 (43%)]\tLoss: 0.211315\n",
      "Train Epoch: 4 [38400/60000 (64%)]\tLoss: 0.143611\n",
      "Train Epoch: 4 [51200/60000 (85%)]\tLoss: 0.197907\n",
      "\n",
      "Test set: Average loss: 0.2080, Accuracy: 9399/10000 (94%)\n",
      "\n",
      "Train Epoch: 5 [0/60000 (0%)]\tLoss: 0.094287\n",
      "Train Epoch: 5 [12800/60000 (21%)]\tLoss: 0.217371\n",
      "Train Epoch: 5 [25600/60000 (43%)]\tLoss: 0.293375\n",
      "Train Epoch: 5 [38400/60000 (64%)]\tLoss: 0.282548\n",
      "Train Epoch: 5 [51200/60000 (85%)]\tLoss: 0.200459\n",
      "\n",
      "Test set: Average loss: 0.1916, Accuracy: 9437/10000 (94%)\n",
      "\n",
      "Train Epoch: 6 [0/60000 (0%)]\tLoss: 0.183486\n",
      "Train Epoch: 6 [12800/60000 (21%)]\tLoss: 0.289590\n",
      "Train Epoch: 6 [25600/60000 (43%)]\tLoss: 0.215373\n",
      "Train Epoch: 6 [38400/60000 (64%)]\tLoss: 0.235312\n",
      "Train Epoch: 6 [51200/60000 (85%)]\tLoss: 0.151442\n",
      "\n",
      "Test set: Average loss: 0.1797, Accuracy: 9469/10000 (95%)\n",
      "\n",
      "Train Epoch: 7 [0/60000 (0%)]\tLoss: 0.142983\n",
      "Train Epoch: 7 [12800/60000 (21%)]\tLoss: 0.138112\n",
      "Train Epoch: 7 [25600/60000 (43%)]\tLoss: 0.252253\n",
      "Train Epoch: 7 [38400/60000 (64%)]\tLoss: 0.282485\n",
      "Train Epoch: 7 [51200/60000 (85%)]\tLoss: 0.204621\n",
      "\n",
      "Test set: Average loss: 0.1678, Accuracy: 9497/10000 (95%)\n",
      "\n",
      "Train Epoch: 8 [0/60000 (0%)]\tLoss: 0.158516\n",
      "Train Epoch: 8 [12800/60000 (21%)]\tLoss: 0.126531\n",
      "Train Epoch: 8 [25600/60000 (43%)]\tLoss: 0.174448\n",
      "Train Epoch: 8 [38400/60000 (64%)]\tLoss: 0.188132\n",
      "Train Epoch: 8 [51200/60000 (85%)]\tLoss: 0.082552\n",
      "\n",
      "Test set: Average loss: 0.1613, Accuracy: 9505/10000 (95%)\n",
      "\n",
      "Train Epoch: 9 [0/60000 (0%)]\tLoss: 0.105938\n",
      "Train Epoch: 9 [12800/60000 (21%)]\tLoss: 0.056256\n",
      "Train Epoch: 9 [25600/60000 (43%)]\tLoss: 0.069387\n",
      "Train Epoch: 9 [38400/60000 (64%)]\tLoss: 0.190052\n",
      "Train Epoch: 9 [51200/60000 (85%)]\tLoss: 0.208647\n",
      "\n",
      "Test set: Average loss: 0.1534, Accuracy: 9540/10000 (95%)\n",
      "\n",
      "Train Epoch: 10 [0/60000 (0%)]\tLoss: 0.100863\n",
      "Train Epoch: 10 [12800/60000 (21%)]\tLoss: 0.032421\n",
      "Train Epoch: 10 [25600/60000 (43%)]\tLoss: 0.140015\n",
      "Train Epoch: 10 [38400/60000 (64%)]\tLoss: 0.251966\n",
      "Train Epoch: 10 [51200/60000 (85%)]\tLoss: 0.082486\n",
      "\n",
      "Test set: Average loss: 0.1450, Accuracy: 9564/10000 (96%)\n",
      "\n"
     ]
    },
    {
     "data": {
      "image/png": "[encoded data removed]",
      "text/plain": [
       "<Figure size 648x288 with 2 Axes>"
      ]
     },
     "metadata": {
      "needs_background": "light"
     },
     "output_type": "display_data"
    }
   ],
   "source": [
    "# Training Loop \n",
    "\n",
    "train_losses = []\n",
    "train_accs = []\n",
    "\n",
    "for epoch in range(epochs):\n",
    "\n",
    "    for i, (x_batch, y_batch) in enumerate(train_loader):\n",
    "        # Flatten input to 1D tensor\n",
    "        x_batch = x_batch.flatten(start_dim=1)\n",
    "\n",
    "        # Perform forward pass\n",
    "        optimizer.zero_grad()\n",
    "        y_pred = model.forward(x_batch)\n",
    "        loss = criterion(y_pred,y_batch)\n",
    "        train_losses.append(loss.detach().numpy())\n",
    "        optimizer.zero_grad()\n",
    "        loss.backward()\n",
    "        optimizer.step()\n",
    "\n",
    "        # Calculate accuracy of prediction\n",
    "        correct = torch.argmax(y_pred, axis=1) == y_batch\n",
    "        train_accs.append(torch.sum(correct)/len(y_pred))\n",
    "        \n",
    "        # Print progress\n",
    "        if i % 200 == 0:\n",
    "            print('Train Epoch: {} [{}/{} ({:.0f}%)]\\tLoss: {:.6f}'.format(\n",
    "                epoch + 1, i * len(x_batch), len(train_loader.dataset),\n",
    "                100. * i / len(train_loader), loss))\n",
    "\n",
    "    # Validation loop    \n",
    "    test_loss = 0\n",
    "    total_correct = 0\n",
    "    for x_batch, y_batch in test_loader:\n",
    "        # Flatten input to 1D tensor\n",
    "        x_batch = x_batch.flatten(start_dim=1)\n",
    "\n",
    "        # Perform forward pass with x_xor as input and y_pred as output variables\n",
    "        y_pred = model.forward(x_batch)\n",
    "        loss = criterion(y_pred,y_batch)\n",
    "        # Keep track of total loss over test set\n",
    "        test_loss += loss\n",
    "\n",
    "        # Calculate accuracy of prediction\n",
    "        correct = torch.argmax(y_pred, axis=1) == y_batch\n",
    "        total_correct += torch.sum(correct)\n",
    "\n",
    "    test_loss /= len(test_loader.dataset)\n",
    "    test_acc = 100. * total_correct / len(test_loader.dataset)\n",
    "    print('\\nTest set: Average loss: {:.4f}, Accuracy: {}/{} ({:.0f}%)\\n'.format(\n",
    "        test_loss, total_correct, len(test_loader.dataset), test_acc))\n",
    "    \n",
    "# Plot training curves\n",
    "plt.figure(figsize=(9,4))\n",
    "plt.subplot(1,2,1)\n",
    "plt.xlabel('Iterations')\n",
    "plt.ylabel('Loss')\n",
    "plt.plot(train_losses)\n",
    "plt.grid()\n",
    "\n",
    "plt.subplot(1,2,2)\n",
    "plt.xlabel('Iterations')\n",
    "plt.ylabel('Accuracy (%)')\n",
    "plt.plot(train_accs)\n",
    "plt.grid()"
   ]
  },
  {
   "cell_type": "code",
   "execution_count": 6,
   "id": "0926c966",
   "metadata": {},
   "outputs": [
    {
     "name": "stdout",
     "output_type": "stream",
     "text": [
      "0\n",
      "tensor([[ 7.0949, -5.9280,  1.3396, -3.0367, -3.6090, -0.7812, -2.1941, -3.1273,\n",
      "         -3.0205, -3.9076]], grad_fn=<AddmmBackward0>)\n",
      "tensor([[0]])\n"
     ]
    },
    {
     "data": {
      "image/png": "[encoded data removed]",
      "text/plain": [
       "<Figure size 432x288 with 1 Axes>"
      ]
     },
     "metadata": {
      "needs_background": "light"
     },
     "output_type": "display_data"
    }
   ],
   "source": [
    "img, label = test_data[10]\n",
    "print(label)\n",
    "plt.imshow(img.squeeze(), cmap=\"gray\")\n",
    "img = img.view(-1, 28*28)\n",
    "output = model(img)\n",
    "print(output)\n",
    "pred = output.data.max(1, keepdim=True)[1]\n",
    "print(pred)"
   ]
  },
  {
   "cell_type": "code",
   "execution_count": null,
   "id": "a3a7de9a",
   "metadata": {},
   "outputs": [],
   "source": []
  }
 ],
 "metadata": {
  "kernelspec": {
   "display_name": "Python 3 (ipykernel)",
   "language": "python",
   "name": "python3"
  },
  "language_info": {
   "codemirror_mode": {
    "name": "ipython",
    "version": 3
   },
   "file_extension": ".py",
   "mimetype": "text/x-python",
   "name": "python",
   "nbconvert_exporter": "python",
   "pygments_lexer": "ipython3",
   "version": "3.9.12"
  }
 },
 "nbformat": 4,
 "nbformat_minor": 5
}
