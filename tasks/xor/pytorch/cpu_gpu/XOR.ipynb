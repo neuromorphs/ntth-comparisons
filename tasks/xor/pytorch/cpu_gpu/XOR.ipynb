{
 "cells": [
  {
   "cell_type": "code",
   "execution_count": 1,
   "id": "25df5cb6",
   "metadata": {},
   "outputs": [],
   "source": [
    "# Import Libraries \n",
    "import torch\n",
    "import torch.nn as nn\n",
    "import matplotlib.pyplot as plt"
   ]
  },
  {
   "cell_type": "code",
   "execution_count": 2,
   "id": "f03ad5c2",
   "metadata": {},
   "outputs": [],
   "source": [
    "# Network dimensions \n",
    "in_features = 2   #Input Features \n",
    "hid_features = 10 #Hidden Features\n",
    "out_features = 2  #Output Features \n",
    "\n",
    "# Training Parameters \n",
    "learning_rate = 5e-1 \n",
    "optim_steps = 150 "
   ]
  },
  {
   "cell_type": "code",
   "execution_count": 3,
   "id": "f9e22b1e",
   "metadata": {},
   "outputs": [],
   "source": [
    "# Create a torch model with 1 hidden layer \n",
    "\n",
    "class Net(nn.Module):\n",
    "    \n",
    "    def __init__(self, in_features, hidden_dim, out_features):\n",
    "        super(Net, self).__init__()\n",
    "        self.layer1 = nn.Linear(in_features, hidden_dim)\n",
    "        self.relu = nn.ReLU()\n",
    "        self.layer2 = nn.Linear(hidden_dim, out_features)\n",
    "        \n",
    "    def forward(self, x):     \n",
    "        x = self.layer1(x)\n",
    "        x = self.relu(x)\n",
    "        x = self.layer2(x)\n",
    "        return x\n",
    "\n",
    "# Declare an instance of the network\n",
    "\n",
    "model = Net(in_features,hid_features,out_features)\n",
    "criterion = nn.CrossEntropyLoss()\n",
    "optimizer = torch.optim.SGD(model.parameters(), learning_rate) "
   ]
  },
  {
   "cell_type": "code",
   "execution_count": 4,
   "id": "0c147921",
   "metadata": {},
   "outputs": [],
   "source": [
    "# Inputs and true one-hot encoded labels \n",
    "\n",
    "x_xor = torch.tensor([[0, 0], [0, 1], [1, 0], [1, 1]], dtype=torch.float32)\n",
    "y_xor = torch.tensor([[1, 0], [0, 1], [0, 1], [1, 0]], dtype=torch.float32) # one-hot encoded"
   ]
  },
  {
   "cell_type": "code",
   "execution_count": 5,
   "id": "b56c6c73",
   "metadata": {},
   "outputs": [
    {
     "data": {
      "image/png": "[encoded data removed]",
      "text/plain": [
       "<Figure size 1008x288 with 2 Axes>"
      ]
     },
     "metadata": {
      "needs_background": "light"
     },
     "output_type": "display_data"
    }
   ],
   "source": [
    "# Training loop \n",
    "\n",
    "losses = []\n",
    "accs = []\n",
    "\n",
    "for i in range(optim_steps):\n",
    "    \n",
    "    optimizer.zero_grad()\n",
    "    y_pred = model.forward(x_xor)\n",
    "    loss = criterion(y_pred,y_xor)\n",
    "    losses.append(loss.detach().numpy())\n",
    "    optimizer.zero_grad()\n",
    "    loss.backward()\n",
    "    optimizer.step()\n",
    "    correct = torch.argmax(y_pred, axis=1) == torch.argmax(y_xor, axis=1)\n",
    "    accs.append(torch.sum(correct)/len(y_pred))\n",
    "    \n",
    "# Plot loss and accuracy\n",
    "plt.figure(figsize=(14,4))\n",
    "plt.subplot(1,3,1)\n",
    "plt.xlabel('Iterations')\n",
    "plt.ylabel('Loss')\n",
    "plt.plot(losses)\n",
    "plt.grid()\n",
    "\n",
    "plt.subplot(1,3,2)\n",
    "plt.xlabel('Iterations')\n",
    "plt.ylabel('Accuracy (%)')\n",
    "plt.plot(accs)\n",
    "plt.grid()"
   ]
  },
  {
   "cell_type": "code",
   "execution_count": 6,
   "id": "50ef648d",
   "metadata": {},
   "outputs": [
    {
     "name": "stdout",
     "output_type": "stream",
     "text": [
      "tensor([[0., 0.],\n",
      "        [0., 1.],\n",
      "        [1., 0.],\n",
      "        [1., 1.]])\n"
     ]
    },
    {
     "data": {
      "text/plain": [
       "tensor([0, 1, 1, 0])"
      ]
     },
     "execution_count": 6,
     "metadata": {},
     "output_type": "execute_result"
    }
   ],
   "source": [
    "print(x_xor)\n",
    "res = model(x_xor)\n",
    "correct = torch.argmax(res, axis=1)\n",
    "correct"
   ]
  },
  {
   "cell_type": "code",
   "execution_count": null,
   "id": "82251127",
   "metadata": {},
   "outputs": [],
   "source": []
  }
 ],
 "metadata": {
  "kernelspec": {
   "display_name": "Python 3 (ipykernel)",
   "language": "python",
   "name": "python3"
  },
  "language_info": {
   "codemirror_mode": {
    "name": "ipython",
    "version": 3
   },
   "file_extension": ".py",
   "mimetype": "text/x-python",
   "name": "python",
   "nbconvert_exporter": "python",
   "pygments_lexer": "ipython3",
   "version": "3.9.12"
  }
 },
 "nbformat": 4,
 "nbformat_minor": 5
}
